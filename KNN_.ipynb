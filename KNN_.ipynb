{
  "cells": [
    {
      "cell_type": "markdown",
      "metadata": {
        "id": "view-in-github",
        "colab_type": "text"
      },
      "source": [
        "<a href=\"https://colab.research.google.com/github/waqas-manzoor5595/Machine_learning_projects-b-/blob/main/KNN_.ipynb\" target=\"_parent\"><img src=\"https://colab.research.google.com/assets/colab-badge.svg\" alt=\"Open In Colab\"/></a>"
      ]
    },
    {
      "cell_type": "markdown",
      "id": "b6ba6fd1",
      "metadata": {
        "id": "b6ba6fd1"
      },
      "source": [
        "# Part 1 - Data Preparation\n",
        "\n",
        "We will be apply the kNN algorithm on a case study where we're trying to determine whether we should accept an individual's application for a credit card based on the individual's profile and credit history.\n",
        "\n",
        "**Note for Jupyter Notebook**: All the libraries/packages need to be updated to the latest version for the code to execute without any errors. Kindly check whether the **scikit-learn** library has been updated to the newest version, 1.1.\n",
        "\n",
        "We start with package imports and data preparation steps"
      ]
    },
    {
      "cell_type": "code",
      "execution_count": null,
      "id": "91e16376",
      "metadata": {
        "id": "91e16376"
      },
      "outputs": [],
      "source": [
        "import pandas as pd\n",
        "import numpy as np\n",
        "from matplotlib import pyplot as plt\n",
        "\n",
        "from sklearn.model_selection import train_test_split\n",
        "from sklearn.preprocessing import StandardScaler\n",
        "from sklearn.model_selection import GridSearchCV\n",
        "from sklearn.metrics import f1_score, precision_score, recall_score, accuracy_score, mean_squared_error\n",
        "from sklearn.metrics import confusion_matrix, ConfusionMatrixDisplay\n",
        "from sklearn.neighbors import KNeighborsClassifier, KNeighborsRegressor\n"
      ]
    },
    {
      "cell_type": "code",
      "execution_count": null,
      "id": "2d0b9f80",
      "metadata": {
        "id": "2d0b9f80"
      },
      "outputs": [],
      "source": [
        "##Filter warnings\n",
        "import warnings\n",
        "warnings.filterwarnings('ignore')"
      ]
    },
    {
      "cell_type": "code",
      "execution_count": null,
      "id": "1ecb7445",
      "metadata": {
        "colab": {
          "base_uri": "https://localhost:8080/",
          "height": 300
        },
        "id": "1ecb7445",
        "outputId": "13ffad5e-6144-472c-f35d-c72f305634af"
      },
      "outputs": [
        {
          "data": {
            "text/html": [
              "\n",
              "  <div id=\"df-72f37322-2564-4641-8234-01034695b3e2\">\n",
              "    <div class=\"colab-df-container\">\n",
              "      <div>\n",
              "<style scoped>\n",
              "    .dataframe tbody tr th:only-of-type {\n",
              "        vertical-align: middle;\n",
              "    }\n",
              "\n",
              "    .dataframe tbody tr th {\n",
              "        vertical-align: top;\n",
              "    }\n",
              "\n",
              "    .dataframe thead th {\n",
              "        text-align: right;\n",
              "    }\n",
              "</style>\n",
              "<table border=\"1\" class=\"dataframe\">\n",
              "  <thead>\n",
              "    <tr style=\"text-align: right;\">\n",
              "      <th></th>\n",
              "      <th>checking_account</th>\n",
              "      <th>duration</th>\n",
              "      <th>credit_history</th>\n",
              "      <th>purpose</th>\n",
              "      <th>amount</th>\n",
              "      <th>savings_account</th>\n",
              "      <th>employment_duration</th>\n",
              "      <th>installment_rate</th>\n",
              "      <th>other_debtors</th>\n",
              "      <th>present_residence</th>\n",
              "      <th>...</th>\n",
              "      <th>age</th>\n",
              "      <th>other_installment_plans</th>\n",
              "      <th>housing</th>\n",
              "      <th>number_credits</th>\n",
              "      <th>job</th>\n",
              "      <th>people_liable</th>\n",
              "      <th>telephone</th>\n",
              "      <th>foreign_worker</th>\n",
              "      <th>gender</th>\n",
              "      <th>profit</th>\n",
              "    </tr>\n",
              "  </thead>\n",
              "  <tbody>\n",
              "    <tr>\n",
              "      <th>0</th>\n",
              "      <td>3</td>\n",
              "      <td>18</td>\n",
              "      <td>0</td>\n",
              "      <td>2</td>\n",
              "      <td>1049</td>\n",
              "      <td>4</td>\n",
              "      <td>2</td>\n",
              "      <td>2</td>\n",
              "      <td>2</td>\n",
              "      <td>3</td>\n",
              "      <td>...</td>\n",
              "      <td>21</td>\n",
              "      <td>1</td>\n",
              "      <td>0</td>\n",
              "      <td>0</td>\n",
              "      <td>1</td>\n",
              "      <td>0</td>\n",
              "      <td>0</td>\n",
              "      <td>0</td>\n",
              "      <td>female</td>\n",
              "      <td>242</td>\n",
              "    </tr>\n",
              "    <tr>\n",
              "      <th>1</th>\n",
              "      <td>3</td>\n",
              "      <td>9</td>\n",
              "      <td>0</td>\n",
              "      <td>5</td>\n",
              "      <td>2799</td>\n",
              "      <td>4</td>\n",
              "      <td>0</td>\n",
              "      <td>1</td>\n",
              "      <td>2</td>\n",
              "      <td>0</td>\n",
              "      <td>...</td>\n",
              "      <td>36</td>\n",
              "      <td>1</td>\n",
              "      <td>0</td>\n",
              "      <td>1</td>\n",
              "      <td>1</td>\n",
              "      <td>1</td>\n",
              "      <td>0</td>\n",
              "      <td>0</td>\n",
              "      <td>male</td>\n",
              "      <td>596</td>\n",
              "    </tr>\n",
              "    <tr>\n",
              "      <th>2</th>\n",
              "      <td>0</td>\n",
              "      <td>12</td>\n",
              "      <td>4</td>\n",
              "      <td>8</td>\n",
              "      <td>841</td>\n",
              "      <td>0</td>\n",
              "      <td>1</td>\n",
              "      <td>1</td>\n",
              "      <td>2</td>\n",
              "      <td>3</td>\n",
              "      <td>...</td>\n",
              "      <td>23</td>\n",
              "      <td>1</td>\n",
              "      <td>0</td>\n",
              "      <td>0</td>\n",
              "      <td>3</td>\n",
              "      <td>0</td>\n",
              "      <td>0</td>\n",
              "      <td>0</td>\n",
              "      <td>female</td>\n",
              "      <td>25</td>\n",
              "    </tr>\n",
              "    <tr>\n",
              "      <th>3</th>\n",
              "      <td>3</td>\n",
              "      <td>12</td>\n",
              "      <td>0</td>\n",
              "      <td>5</td>\n",
              "      <td>2122</td>\n",
              "      <td>4</td>\n",
              "      <td>0</td>\n",
              "      <td>0</td>\n",
              "      <td>2</td>\n",
              "      <td>0</td>\n",
              "      <td>...</td>\n",
              "      <td>39</td>\n",
              "      <td>1</td>\n",
              "      <td>0</td>\n",
              "      <td>1</td>\n",
              "      <td>3</td>\n",
              "      <td>1</td>\n",
              "      <td>0</td>\n",
              "      <td>1</td>\n",
              "      <td>male</td>\n",
              "      <td>568</td>\n",
              "    </tr>\n",
              "    <tr>\n",
              "      <th>4</th>\n",
              "      <td>3</td>\n",
              "      <td>12</td>\n",
              "      <td>0</td>\n",
              "      <td>5</td>\n",
              "      <td>2171</td>\n",
              "      <td>4</td>\n",
              "      <td>0</td>\n",
              "      <td>2</td>\n",
              "      <td>2</td>\n",
              "      <td>3</td>\n",
              "      <td>...</td>\n",
              "      <td>38</td>\n",
              "      <td>0</td>\n",
              "      <td>2</td>\n",
              "      <td>1</td>\n",
              "      <td>3</td>\n",
              "      <td>0</td>\n",
              "      <td>0</td>\n",
              "      <td>1</td>\n",
              "      <td>male</td>\n",
              "      <td>782</td>\n",
              "    </tr>\n",
              "  </tbody>\n",
              "</table>\n",
              "<p>5 rows × 21 columns</p>\n",
              "</div>\n",
              "      <button class=\"colab-df-convert\" onclick=\"convertToInteractive('df-72f37322-2564-4641-8234-01034695b3e2')\"\n",
              "              title=\"Convert this dataframe to an interactive table.\"\n",
              "              style=\"display:none;\">\n",
              "        \n",
              "  <svg xmlns=\"http://www.w3.org/2000/svg\" height=\"24px\"viewBox=\"0 0 24 24\"\n",
              "       width=\"24px\">\n",
              "    <path d=\"M0 0h24v24H0V0z\" fill=\"none\"/>\n",
              "    <path d=\"M18.56 5.44l.94 2.06.94-2.06 2.06-.94-2.06-.94-.94-2.06-.94 2.06-2.06.94zm-11 1L8.5 8.5l.94-2.06 2.06-.94-2.06-.94L8.5 2.5l-.94 2.06-2.06.94zm10 10l.94 2.06.94-2.06 2.06-.94-2.06-.94-.94-2.06-.94 2.06-2.06.94z\"/><path d=\"M17.41 7.96l-1.37-1.37c-.4-.4-.92-.59-1.43-.59-.52 0-1.04.2-1.43.59L10.3 9.45l-7.72 7.72c-.78.78-.78 2.05 0 2.83L4 21.41c.39.39.9.59 1.41.59.51 0 1.02-.2 1.41-.59l7.78-7.78 2.81-2.81c.8-.78.8-2.07 0-2.86zM5.41 20L4 18.59l7.72-7.72 1.47 1.35L5.41 20z\"/>\n",
              "  </svg>\n",
              "      </button>\n",
              "      \n",
              "  <style>\n",
              "    .colab-df-container {\n",
              "      display:flex;\n",
              "      flex-wrap:wrap;\n",
              "      gap: 12px;\n",
              "    }\n",
              "\n",
              "    .colab-df-convert {\n",
              "      background-color: #E8F0FE;\n",
              "      border: none;\n",
              "      border-radius: 50%;\n",
              "      cursor: pointer;\n",
              "      display: none;\n",
              "      fill: #1967D2;\n",
              "      height: 32px;\n",
              "      padding: 0 0 0 0;\n",
              "      width: 32px;\n",
              "    }\n",
              "\n",
              "    .colab-df-convert:hover {\n",
              "      background-color: #E2EBFA;\n",
              "      box-shadow: 0px 1px 2px rgba(60, 64, 67, 0.3), 0px 1px 3px 1px rgba(60, 64, 67, 0.15);\n",
              "      fill: #174EA6;\n",
              "    }\n",
              "\n",
              "    [theme=dark] .colab-df-convert {\n",
              "      background-color: #3B4455;\n",
              "      fill: #D2E3FC;\n",
              "    }\n",
              "\n",
              "    [theme=dark] .colab-df-convert:hover {\n",
              "      background-color: #434B5C;\n",
              "      box-shadow: 0px 1px 3px 1px rgba(0, 0, 0, 0.15);\n",
              "      filter: drop-shadow(0px 1px 2px rgba(0, 0, 0, 0.3));\n",
              "      fill: #FFFFFF;\n",
              "    }\n",
              "  </style>\n",
              "\n",
              "      <script>\n",
              "        const buttonEl =\n",
              "          document.querySelector('#df-72f37322-2564-4641-8234-01034695b3e2 button.colab-df-convert');\n",
              "        buttonEl.style.display =\n",
              "          google.colab.kernel.accessAllowed ? 'block' : 'none';\n",
              "\n",
              "        async function convertToInteractive(key) {\n",
              "          const element = document.querySelector('#df-72f37322-2564-4641-8234-01034695b3e2');\n",
              "          const dataTable =\n",
              "            await google.colab.kernel.invokeFunction('convertToInteractive',\n",
              "                                                     [key], {});\n",
              "          if (!dataTable) return;\n",
              "\n",
              "          const docLinkHtml = 'Like what you see? Visit the ' +\n",
              "            '<a target=\"_blank\" href=https://colab.research.google.com/notebooks/data_table.ipynb>data table notebook</a>'\n",
              "            + ' to learn more about interactive tables.';\n",
              "          element.innerHTML = '';\n",
              "          dataTable['output_type'] = 'display_data';\n",
              "          await google.colab.output.renderOutput(dataTable, element);\n",
              "          const docLink = document.createElement('div');\n",
              "          docLink.innerHTML = docLinkHtml;\n",
              "          element.appendChild(docLink);\n",
              "        }\n",
              "      </script>\n",
              "    </div>\n",
              "  </div>\n",
              "  "
            ],
            "text/plain": [
              "   checking_account  duration  credit_history  purpose  amount  \\\n",
              "0                 3        18               0        2    1049   \n",
              "1                 3         9               0        5    2799   \n",
              "2                 0        12               4        8     841   \n",
              "3                 3        12               0        5    2122   \n",
              "4                 3        12               0        5    2171   \n",
              "\n",
              "   savings_account  employment_duration  installment_rate  other_debtors  \\\n",
              "0                4                    2                 2              2   \n",
              "1                4                    0                 1              2   \n",
              "2                0                    1                 1              2   \n",
              "3                4                    0                 0              2   \n",
              "4                4                    0                 2              2   \n",
              "\n",
              "   present_residence  ...  age  other_installment_plans  housing  \\\n",
              "0                  3  ...   21                        1        0   \n",
              "1                  0  ...   36                        1        0   \n",
              "2                  3  ...   23                        1        0   \n",
              "3                  0  ...   39                        1        0   \n",
              "4                  3  ...   38                        0        2   \n",
              "\n",
              "   number_credits  job  people_liable  telephone  foreign_worker  gender  \\\n",
              "0               0    1              0          0               0  female   \n",
              "1               1    1              1          0               0    male   \n",
              "2               0    3              0          0               0  female   \n",
              "3               1    3              1          0               1    male   \n",
              "4               1    3              0          0               1    male   \n",
              "\n",
              "  profit  \n",
              "0    242  \n",
              "1    596  \n",
              "2     25  \n",
              "3    568  \n",
              "4    782  \n",
              "\n",
              "[5 rows x 21 columns]"
            ]
          },
          "execution_count": 3,
          "metadata": {},
          "output_type": "execute_result"
        }
      ],
      "source": [
        "credit_df = pd.read_csv(\"MyCreditData.csv\")\n",
        "credit_df.head()"
      ]
    },
    {
      "cell_type": "code",
      "execution_count": null,
      "id": "061b18bc",
      "metadata": {
        "id": "061b18bc"
      },
      "outputs": [],
      "source": [
        "# ensure Python reads the categorical variables as categorical\n",
        "non_categorical_columns = ['duration', 'amount', 'age', 'profit']\n",
        "for column in credit_df.columns:\n",
        "    if column not in non_categorical_columns:\n",
        "        credit_df[column] = pd.Categorical(credit_df[column])\n",
        "\n",
        "# Create binary dependent variable\n",
        "credit_df[\"is_profitable\"] = np.where(credit_df['profit'] > 0, 1, 0)"
      ]
    },
    {
      "cell_type": "markdown",
      "id": "08398c0e",
      "metadata": {
        "id": "08398c0e"
      },
      "source": [
        "We do our usual 70/30 train test split:"
      ]
    },
    {
      "cell_type": "code",
      "execution_count": null,
      "id": "4f5e20a5",
      "metadata": {
        "id": "4f5e20a5"
      },
      "outputs": [],
      "source": [
        "y = credit_df['is_profitable']\n",
        "X = credit_df.iloc[:, :-2] # All columns but the last two, profit and is_profitable\n",
        "\n",
        "# Use dummy variables for categorical variables\n",
        "X = pd.get_dummies(X, drop_first=False)\n",
        "\n",
        "X_train, X_val, y_train, y_val = train_test_split(X, y, test_size=0.3, random_state = 1)\n",
        "\n",
        "# Standardize our non-dummy variables\n",
        "scaler = StandardScaler()\n",
        "X_train[['duration', 'amount', 'age']]= scaler.fit_transform(X_train[['duration', 'amount', 'age']])\n",
        "X_val[['duration', 'amount', 'age']]= scaler.transform(X_val[['duration', 'amount', 'age']])"
      ]
    },
    {
      "cell_type": "markdown",
      "id": "56bf8e7d",
      "metadata": {
        "id": "56bf8e7d"
      },
      "source": [
        "# Part 2 - Fitting a kNN Model"
      ]
    },
    {
      "cell_type": "markdown",
      "id": "7f73ba7e",
      "metadata": {
        "id": "7f73ba7e"
      },
      "source": [
        "As before, our goal is to predict *is_profitable* using all available useful information, now using the k-Nearest Neighbors model (kNN).\n",
        "\n",
        "We use grid search to determine optimal value of $k$.\n",
        "\n"
      ]
    },
    {
      "cell_type": "markdown",
      "id": "PyUmfI-ypF3C",
      "metadata": {
        "id": "PyUmfI-ypF3C"
      },
      "source": [
        "## 2.1a Fitting kNN for Classificaiton using the validation data"
      ]
    },
    {
      "cell_type": "code",
      "execution_count": null,
      "id": "kATs4EhjpLu9",
      "metadata": {
        "colab": {
          "base_uri": "https://localhost:8080/",
          "height": 296
        },
        "id": "kATs4EhjpLu9",
        "outputId": "d32dde71-d055-4798-cfb6-4807f92ccfcc"
      },
      "outputs": [
        {
          "name": "stdout",
          "output_type": "stream",
          "text": [
            "The maximum accuracy is obtained at k = 14\n"
          ]
        },
        {
          "data": {
            "image/png": "[encoded data removed]",
            "text/plain": [
              "<Figure size 432x288 with 1 Axes>"
            ]
          },
          "metadata": {
            "needs_background": "light"
          },
          "output_type": "display_data"
        }
      ],
      "source": [
        "kvalues = np.arange(1,31) # Parameter range\n",
        "\n",
        "val_acc=[]\n",
        "\n",
        "for k in kvalues:\n",
        "  knn_clf = KNeighborsClassifier(n_neighbors=k)\n",
        "  knn_clf.fit(X_train, y_train)\n",
        "  y_pred = knn_clf.predict(X_val)\n",
        "  val_acc.append(accuracy_score(y_val, y_pred))\n",
        "\n",
        "### Accuracy vs k\n",
        "plt.plot(kvalues,val_acc,marker='o')\n",
        "plt.xlabel(\"k\")\n",
        "plt.ylabel(\"Accuracy\")\n",
        "print(\"The maximum accuracy is obtained at k = \" + str(np.argmax(val_acc)+1))\n"
      ]
    },
    {
      "cell_type": "markdown",
      "id": "mkepTvLkrmWU",
      "metadata": {
        "id": "mkepTvLkrmWU"
      },
      "source": [
        "Let's fit the best model and calculate some classification performance measures"
      ]
    },
    {
      "cell_type": "code",
      "execution_count": null,
      "id": "myECcRRerfDL",
      "metadata": {
        "id": "myECcRRerfDL"
      },
      "outputs": [],
      "source": [
        "knn_clf_best = KNeighborsClassifier(n_neighbors=14)\n",
        "knn_clf_best.fit(X_train, y_train)\n",
        "y_pred = knn_clf_best.predict(X_val)"
      ]
    },
    {
      "cell_type": "code",
      "execution_count": null,
      "id": "ZG7OKncTrxWm",
      "metadata": {
        "colab": {
          "base_uri": "https://localhost:8080/",
          "height": 304
        },
        "id": "ZG7OKncTrxWm",
        "outputId": "bf69dd45-51a1-4693-d060-e5bef3e191cb"
      },
      "outputs": [
        {
          "data": {
            "text/plain": [
              "<sklearn.metrics._plot.confusion_matrix.ConfusionMatrixDisplay at 0x7f5dff4e7d10>"
            ]
          },
          "execution_count": 9,
          "metadata": {},
          "output_type": "execute_result"
        },
        {
          "data": {
            "image/png": "[encoded data removed]",
            "text/plain": [
              "<Figure size 432x288 with 2 Axes>"
            ]
          },
          "metadata": {
            "needs_background": "light"
          },
          "output_type": "display_data"
        }
      ],
      "source": [
        "plt.rcParams.update({'font.size': 14}) # To make the plot labels easier to read\n",
        "ConfusionMatrixDisplay.from_estimator(\n",
        "        knn_clf_best,\n",
        "        X_val,\n",
        "        y_val,\n",
        "        cmap=plt.cm.Blues,\n",
        "    )"
      ]
    },
    {
      "cell_type": "code",
      "execution_count": null,
      "id": "gBFr3mF7r1pU",
      "metadata": {
        "colab": {
          "base_uri": "https://localhost:8080/"
        },
        "id": "gBFr3mF7r1pU",
        "outputId": "b0067cee-01b1-44c1-c961-e6235b33c0a2"
      },
      "outputs": [
        {
          "name": "stdout",
          "output_type": "stream",
          "text": [
            "Validation data Accuracy Score: 0.730\n",
            "Validation data F1 Score: 0.825\n",
            "Validation data Sensitivity (recall of positive class): 0.910\n",
            "Validation data Specificty (recall of negative class): 0.311\n"
          ]
        }
      ],
      "source": [
        "print('Validation data Accuracy Score: %.3f' % accuracy_score(y_val, y_pred))\n",
        "print('Validation data F1 Score: %.3f' % f1_score(y_val, y_pred))\n",
        "print('Validation data Sensitivity (recall of positive class): %.3f' % recall_score(y_val, y_pred, pos_label=1))\n",
        "print('Validation data Specificty (recall of negative class): %.3f' % recall_score(y_val, y_pred, pos_label=0))"
      ]
    },
    {
      "cell_type": "markdown",
      "id": "v5KXBhvdrI50",
      "metadata": {
        "id": "v5KXBhvdrI50"
      },
      "source": [
        "## 2.1b Fitting kNN for Classification using cross-validaiton"
      ]
    },
    {
      "cell_type": "code",
      "execution_count": null,
      "id": "c9e1309e",
      "metadata": {
        "colab": {
          "base_uri": "https://localhost:8080/"
        },
        "id": "c9e1309e",
        "outputId": "b7530202-c110-44b1-dba5-14247f8fe801"
      },
      "outputs": [
        {
          "name": "stdout",
          "output_type": "stream",
          "text": [
            "Fitting 5 folds for each of 30 candidates, totalling 150 fits\n"
          ]
        },
        {
          "data": {
            "text/plain": [
              "{'n_neighbors': 12}"
            ]
          },
          "execution_count": 11,
          "metadata": {},
          "output_type": "execute_result"
        }
      ],
      "source": [
        "knn_clf = KNeighborsClassifier()\n",
        "param_grid = {'n_neighbors': np.arange(1,31)} # Parameter range\n",
        "\n",
        "# defining parameter range\n",
        "grid = GridSearchCV(knn_clf, param_grid, cv=5, scoring='accuracy', return_train_score=True, verbose=1)\n",
        "grid_search = grid.fit(X_train, y_train)\n",
        "\n",
        "grid_search.best_params_"
      ]
    },
    {
      "cell_type": "markdown",
      "id": "a205a523",
      "metadata": {
        "id": "a205a523"
      },
      "source": [
        "You can visualize the average validation accuracies obtained during the cross validation performed in the above step."
      ]
    },
    {
      "cell_type": "code",
      "execution_count": null,
      "id": "48df0f75",
      "metadata": {
        "colab": {
          "base_uri": "https://localhost:8080/",
          "height": 336
        },
        "id": "48df0f75",
        "outputId": "9d6d9eee-f4ad-4e8a-84da-e5a05464254c"
      },
      "outputs": [
        {
          "name": "stdout",
          "output_type": "stream",
          "text": [
            "The maximum accuracy is obtained at k = 16\n",
            "The maximum accuracy is obtained at k = {'n_neighbors': 16}\n"
          ]
        },
        {
          "data": {
            "image/png": "[encoded data removed]",
            "text/plain": [
              "<Figure size 432x288 with 1 Axes>"
            ]
          },
          "metadata": {
            "needs_background": "light"
          },
          "output_type": "display_data"
        }
      ],
      "source": [
        "### Accuracy vs k\n",
        "plt.plot(param_grid['n_neighbors'], grid_search.cv_results_['mean_test_score'],marker='o')\n",
        "plt.xlabel(\"k\")\n",
        "plt.ylabel(\"Accuracy\")\n",
        "print(\"The maximum accuracy is obtained at k = \" + str(np.argmax(grid_search.cv_results_['mean_test_score'])+1))\n"
      ]
    },
    {
      "cell_type": "markdown",
      "id": "7b3e609b",
      "metadata": {
        "id": "7b3e609b"
      },
      "source": [
        "And we find the performance of this model on the validation data:"
      ]
    },
    {
      "cell_type": "code",
      "execution_count": null,
      "id": "c3e5f9c8",
      "metadata": {
        "id": "c3e5f9c8"
      },
      "outputs": [],
      "source": [
        "knn_clf_best = KNeighborsClassifier(n_neighbors=grid_search.best_params_['n_neighbors'])\n",
        "knn_clf_best.fit(X_train, y_train)\n",
        "y_pred = knn_clf_best.predict(X_val)"
      ]
    },
    {
      "cell_type": "code",
      "execution_count": null,
      "id": "6e738194",
      "metadata": {
        "colab": {
          "base_uri": "https://localhost:8080/",
          "height": 304
        },
        "id": "6e738194",
        "outputId": "981425d9-d256-4836-ea12-298caa62eda8"
      },
      "outputs": [
        {
          "data": {
            "text/plain": [
              "<sklearn.metrics._plot.confusion_matrix.ConfusionMatrixDisplay at 0x7f5dfacf7a10>"
            ]
          },
          "execution_count": 14,
          "metadata": {},
          "output_type": "execute_result"
        },
        {
          "data": {
            "image/png": "[encoded data removed]",
            "text/plain": [
              "<Figure size 432x288 with 2 Axes>"
            ]
          },
          "metadata": {
            "needs_background": "light"
          },
          "output_type": "display_data"
        }
      ],
      "source": [
        "plt.rcParams.update({'font.size': 14}) # To make the plot labels easier to read\n",
        "ConfusionMatrixDisplay.from_estimator(\n",
        "        knn_clf_best,\n",
        "        X_val,\n",
        "        y_val,\n",
        "        cmap=plt.cm.Blues,\n",
        "    )"
      ]
    },
    {
      "cell_type": "code",
      "execution_count": null,
      "id": "de69519c",
      "metadata": {
        "colab": {
          "base_uri": "https://localhost:8080/"
        },
        "id": "de69519c",
        "outputId": "2385393d-052b-4334-8f05-aa3fd287d2f9"
      },
      "outputs": [
        {
          "name": "stdout",
          "output_type": "stream",
          "text": [
            "Validation data Accuracy Score: 0.713\n",
            "Validation data F1 Score: 0.813\n",
            "Validation data Sensitivity (recall of positive class): 0.890\n",
            "Validation data Specificty (recall of negative class): 0.300\n"
          ]
        }
      ],
      "source": [
        "print('Validation data Accuracy Score: %.3f' % accuracy_score(y_val, y_pred))\n",
        "print('Validation data F1 Score: %.3f' % f1_score(y_val, y_pred))\n",
        "print('Validation data Sensitivity (recall of positive class): %.3f' % recall_score(y_val, y_pred, pos_label=1))\n",
        "print('Validation data Specificty (recall of negative class): %.3f' % recall_score(y_val, y_pred, pos_label=0))"
      ]
    },
    {
      "cell_type": "markdown",
      "id": "8cde6574",
      "metadata": {
        "id": "8cde6574"
      },
      "source": [
        "## 2.2 Fitting kNN for Prediction\n",
        "\n",
        "Let's implement a prediction with KNN. We first re-establish y_val as a continuous variable:"
      ]
    },
    {
      "cell_type": "code",
      "execution_count": null,
      "id": "4388d655",
      "metadata": {
        "id": "4388d655"
      },
      "outputs": [],
      "source": [
        "y = credit_df['profit']\n",
        "y_train, y_val = train_test_split(y, test_size=0.3, random_state = 1)"
      ]
    },
    {
      "cell_type": "markdown",
      "id": "4EOn3sEptjJ5",
      "metadata": {
        "id": "4EOn3sEptjJ5"
      },
      "source": [
        "And define our rmse function"
      ]
    },
    {
      "cell_type": "code",
      "execution_count": null,
      "id": "4Nay4bzptfKi",
      "metadata": {
        "id": "4Nay4bzptfKi"
      },
      "outputs": [],
      "source": [
        "#rmse function\n",
        "def rmse(y_train, y_pred):\n",
        "  return np.sqrt(mean_squared_error(y_train, y_pred))"
      ]
    },
    {
      "cell_type": "markdown",
      "id": "M9ngZXnmssnA",
      "metadata": {
        "id": "M9ngZXnmssnA"
      },
      "source": [
        "First lets use the validation data to select the best k"
      ]
    },
    {
      "cell_type": "code",
      "execution_count": null,
      "id": "-uaRw1CTssKB",
      "metadata": {
        "colab": {
          "base_uri": "https://localhost:8080/",
          "height": 304
        },
        "id": "-uaRw1CTssKB",
        "outputId": "a534859f-e3bb-4a0b-a89d-0554b24134f9"
      },
      "outputs": [
        {
          "name": "stdout",
          "output_type": "stream",
          "text": [
            "The minimum rmse is obtained at k = 29\n"
          ]
        },
        {
          "data": {
            "image/png": "[encoded data removed]",
            "text/plain": [
              "<Figure size 432x288 with 1 Axes>"
            ]
          },
          "metadata": {
            "needs_background": "light"
          },
          "output_type": "display_data"
        }
      ],
      "source": [
        "kvalues = np.arange(1,31) # Parameter range\n",
        "\n",
        "val_rmse=[]\n",
        "\n",
        "for k in kvalues:\n",
        "  knn_reg = KNeighborsRegressor(n_neighbors=k)\n",
        "  knn_reg.fit(X_train, y_train)\n",
        "  y_pred = knn_reg.predict(X_val)\n",
        "  val_rmse.append(rmse(y_val, y_pred))\n",
        "\n",
        "### Rmse vs k\n",
        "plt.plot(kvalues,val_rmse,marker='o')\n",
        "plt.xlabel(\"k\")\n",
        "plt.ylabel(\"rmse\")\n",
        "print(\"The minimum rmse is obtained at k = \" + str(np.argmin(val_rmse)+1))"
      ]
    },
    {
      "cell_type": "code",
      "execution_count": null,
      "id": "ohKreEdRu-pv",
      "metadata": {
        "colab": {
          "base_uri": "https://localhost:8080/"
        },
        "id": "ohKreEdRu-pv",
        "outputId": "69c5a7bd-ed21-46bf-bbcc-b86987e36c60"
      },
      "outputs": [
        {
          "name": "stdout",
          "output_type": "stream",
          "text": [
            "RMSE validation set: 2646.67\n"
          ]
        }
      ],
      "source": [
        "knn_reg_best = KNeighborsClassifier(n_neighbors=29)\n",
        "knn_reg_best.fit(X_train, y_train)\n",
        "print('RMSE validation set:', round(rmse(y_val, knn_reg_best.predict(X_val)), 2))"
      ]
    },
    {
      "cell_type": "markdown",
      "id": "28dee479",
      "metadata": {
        "id": "28dee479"
      },
      "source": [
        "And then we repeat a similar grid search from the classification case:"
      ]
    },
    {
      "cell_type": "code",
      "execution_count": null,
      "id": "35b8f39b",
      "metadata": {
        "colab": {
          "base_uri": "https://localhost:8080/"
        },
        "id": "35b8f39b",
        "outputId": "128255ea-fcb5-43fe-e7b1-2abec2faaecc"
      },
      "outputs": [
        {
          "name": "stdout",
          "output_type": "stream",
          "text": [
            "Fitting 5 folds for each of 30 candidates, totalling 150 fits\n"
          ]
        },
        {
          "data": {
            "text/plain": [
              "{'n_neighbors': 16}"
            ]
          },
          "execution_count": 21,
          "metadata": {},
          "output_type": "execute_result"
        }
      ],
      "source": [
        "knn_reg = KNeighborsRegressor()\n",
        "param_grid = {'n_neighbors': np.arange(1,31)} # Parameter range\n",
        "\n",
        "# defining parameter range\n",
        "grid = GridSearchCV(knn_reg, param_grid, cv=5, scoring='neg_mean_squared_error', return_train_score=False, verbose=1)\n",
        "grid_search = grid.fit(X_train, y_train)\n",
        "\n",
        "grid_search.best_params_"
      ]
    },
    {
      "cell_type": "markdown",
      "id": "6086b400",
      "metadata": {
        "id": "6086b400"
      },
      "source": [
        "You can visualize the crossvalidation accuracy obtained during the cross validation performed in the previous step."
      ]
    },
    {
      "cell_type": "code",
      "execution_count": null,
      "id": "7796262c",
      "metadata": {
        "colab": {
          "base_uri": "https://localhost:8080/",
          "height": 318
        },
        "id": "7796262c",
        "outputId": "9bdadd75-c956-4e25-ab91-760bff74c741"
      },
      "outputs": [
        {
          "name": "stdout",
          "output_type": "stream",
          "text": [
            "The maximum performance is obtained at k = 16\n"
          ]
        },
        {
          "data": {
            "image/png": "[encoded data removed]",
            "text/plain": [
              "<Figure size 432x288 with 1 Axes>"
            ]
          },
          "metadata": {
            "needs_background": "light"
          },
          "output_type": "display_data"
        }
      ],
      "source": [
        "plt.plot(param_grid['n_neighbors'], grid_search.cv_results_['mean_test_score'], marker='o')\n",
        "plt.xlabel(\"k\")\n",
        "plt.ylabel(\"Negative MSE\")\n",
        "print(\"The maximum performance is obtained at k = \" + str(np.argmax(grid_search.cv_results_['mean_test_score'])+1))"
      ]
    },
    {
      "cell_type": "markdown",
      "id": "21a29b2f",
      "metadata": {
        "id": "21a29b2f"
      },
      "source": [
        "And similarly find the resulting performance on the validation set:"
      ]
    },
    {
      "cell_type": "code",
      "execution_count": null,
      "id": "dd8507dc",
      "metadata": {
        "colab": {
          "base_uri": "https://localhost:8080/"
        },
        "id": "dd8507dc",
        "outputId": "a077e2ab-2e90-4860-bfc4-d0d0aaca9e86"
      },
      "outputs": [
        {
          "name": "stdout",
          "output_type": "stream",
          "text": [
            "RMSE validation set: 2392.01\n"
          ]
        }
      ],
      "source": [
        "knn_reg_best = KNeighborsClassifier(n_neighbors=grid_search.best_params_['n_neighbors'])\n",
        "knn_reg_best.fit(X_train, y_train)\n",
        "print('RMSE validation set:', round(rmse(y_val, knn_reg_best.predict(X_val)), 2))"
      ]
    }
  ],
  "metadata": {
    "colab": {
      "provenance": [],
      "include_colab_link": true
    },
    "kernelspec": {
      "display_name": "Python 3 (ipykernel)",
      "language": "python",
      "name": "python3"
    },
    "language_info": {
      "codemirror_mode": {
        "name": "ipython",
        "version": 3
      },
      "file_extension": ".py",
      "mimetype": "text/x-python",
      "name": "python",
      "nbconvert_exporter": "python",
      "pygments_lexer": "ipython3",
      "version": "3.9.7"
    }
  },
  "nbformat": 4,
  "nbformat_minor": 5
}